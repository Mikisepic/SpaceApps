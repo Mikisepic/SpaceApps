{
 "cells": [
  {
   "cell_type": "code",
   "execution_count": 225,
   "metadata": {},
   "outputs": [],
   "source": [
    "import pandas as pd\n",
    "import folium"
   ]
  },
  {
   "cell_type": "code",
   "execution_count": 226,
   "metadata": {},
   "outputs": [],
   "source": [
    "def get_aod_data_by_time_and_region(selected_year, selected_month, selected_day, selected_region):\n",
    "    \n",
    "    if selected_region == \"Los Angeles, USA\":\n",
    "        aodData = pd.read_csv(\"air quality losAngeles.csv\", sep=\";\")\n",
    "        aodData = aodData[aodData.AOD1 != -1.00]\n",
    "        aodData = aodData[aodData.AOD1 > 0]\n",
    "    elif selected_region == \"AddisAbaba, Ethopia\":\n",
    "        aodData = pd.read_csv(\"air quality ethopia.csv\", sep=\";\")\n",
    "        aodData = aodData[aodData.AOD1 != -1.00]\n",
    "        aodData = aodData[aodData.AOD1 > 0]\n",
    "    elif selected_region == \"Dehli, India\":\n",
    "        aodData = pd.read_csv(\"air quality dehli.csv\", sep=\";\")\n",
    "        aodData = aodData[aodData.AOD1 != -1.00]\n",
    "        aodData = aodData[aodData.AOD1 > 0]\n",
    "    \n",
    "    aod_Data = aodData.loc[(aodData['Year'] == selected_year) & (aodData['Month'] == selected_month) & (aodData['Day'] == selected_day)]\n",
    "\n",
    "    return aod_Data"
   ]
  },
  {
   "cell_type": "code",
   "execution_count": 276,
   "metadata": {},
   "outputs": [],
   "source": [
    "def plot_quality(aod_Data, selected_region1):\n",
    "    # generate a new map\n",
    "    if selected_region1 == \"Los Angeles, USA\":\n",
    "        folium_map = folium.Map(location=[34.0522, -118.2437], zoom_start=11, tiles=\"CartoDB dark_matter\", width='50%')\n",
    "    elif selected_region1 == \"AddisAbaba, Ethopia\":\n",
    "        folium_map = folium.Map(location=[9.02497, 38.74689], zoom_start=11, tiles=\"CartoDB dark_matter\", width='50%')\n",
    "    elif selected_region1 == \"Dehli, India\":\n",
    "        folium_map = folium.Map(location=[28.6448, 77.2167], zoom_start=11, tiles=\"CartoDB positron\", width='50%')\n",
    "        \n",
    "    # for each row in the data, add a cicle marker\n",
    "    for index, row in aod_Data.iterrows():\n",
    "        # calculate net departures\n",
    "        aod_index = row[\"AOD1\"]\n",
    "        \n",
    "        # radius of circles\n",
    "        radius = 21000\n",
    "        \n",
    "        # choose the color of the marker\n",
    "        if aod_index>0 and aod_index<=0.5:\n",
    "            popup_text = \"Air Quality: <br><b>Good\"\n",
    "            color=\"#007849\" # green\n",
    "        elif aod_index>0.5 and aod_index<=1: \n",
    "            popup_text = \"Air Quality: <br><b>Moderate\"\n",
    "            color=\"#ffff00\" # yellow\n",
    "        elif aod_index>1 and aod_index<=1.5:\n",
    "            popup_text = \"Air Quality: <br><b>Unhealthy for Sensitive Groups\"\n",
    "            color=\"#ff8000\" # orange\n",
    "        elif aod_index>1.5 and aod_index<=2:\n",
    "            popup_text = \"Air Quality: <br><b>Unhealthy\"\n",
    "            color=\"#ff0000\" # red\n",
    "        elif aod_index>2 and aod_index<=3:\n",
    "            popup_text = \"Air Quality: <br><b>Very Unhealthy\"\n",
    "            color=\"#8000ff\" # purple\n",
    "        elif aod_index>3 and aod_index<=5:\n",
    "            popup_text = \"Air Quality: <br><b>Hazardous\"\n",
    "            color=\"#800000\" # maroon\n",
    "        \n",
    "        # add marker to the map\n",
    "        folium.Circle(location=(row[\"Longitude\"],\n",
    "                            row[\"Latitude\"]),\n",
    "                            radius=radius,\n",
    "                            color=color,\n",
    "                            popup=popup_text,\n",
    "                            fill=True).add_to(folium_map)\n",
    "    return folium_map"
   ]
  },
  {
   "cell_type": "code",
   "execution_count": 277,
   "metadata": {},
   "outputs": [
    {
     "data": {
      "text/html": [
       "<div style=\"width:100%;\"><div style=\"position:relative;width:100%;height:0;padding-bottom:60%;\"><iframe src=\"data:text/html;charset=utf-8;base64,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\" style=\"position:absolute;width:100%;height:100%;left:0;top:0;border:none !important;\" allowfullscreen webkitallowfullscreen mozallowfullscreen></iframe></div></div>"
      ],
      "text/plain": [
       "<folium.folium.Map at 0x1c9d09b29e8>"
      ]
     },
     "execution_count": 277,
     "metadata": {},
     "output_type": "execute_result"
    }
   ],
   "source": [
    "region = \"Dehli, India\"\n",
    "\n",
    "aod_Data = get_aod_data_by_time_and_region(2019, 1, 2, region)\n",
    "plot_quality(aod_Data, region)"
   ]
  }
 ],
 "metadata": {
  "kernelspec": {
   "display_name": "Python 3",
   "language": "python",
   "name": "python3"
  },
  "language_info": {
   "codemirror_mode": {
    "name": "ipython",
    "version": 3
   },
   "file_extension": ".py",
   "mimetype": "text/x-python",
   "name": "python",
   "nbconvert_exporter": "python",
   "pygments_lexer": "ipython3",
   "version": "3.6.8"
  }
 },
 "nbformat": 4,
 "nbformat_minor": 2
}
